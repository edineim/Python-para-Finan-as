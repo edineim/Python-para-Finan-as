{
 "cells": [
  {
   "cell_type": "code",
   "execution_count": 6,
   "id": "acd90a75",
   "metadata": {},
   "outputs": [],
   "source": [
    "#instalando biblioteca\n",
    "# !pip install pandas_datareader\n",
    "\n",
    "import numpy as np #algebra linear\n",
    "import pandas as pd #vizualização e manipulação de dados\n",
    "from pandas_datareader import data as wb\n",
    "import matplotlib.pyplot as plt"
   ]
  },
  {
   "cell_type": "code",
   "execution_count": 7,
   "id": "ad3dfdd8",
   "metadata": {},
   "outputs": [],
   "source": [
    "#coleta da dados\n",
    "PG = wb.DataReader('PG', data_source='yahoo', start='1995-1-1')"
   ]
  },
  {
   "cell_type": "code",
   "execution_count": 8,
   "id": "5c58147f",
   "metadata": {},
   "outputs": [
    {
     "data": {
      "text/html": [
       "<div>\n",
       "<style scoped>\n",
       "    .dataframe tbody tr th:only-of-type {\n",
       "        vertical-align: middle;\n",
       "    }\n",
       "\n",
       "    .dataframe tbody tr th {\n",
       "        vertical-align: top;\n",
       "    }\n",
       "\n",
       "    .dataframe thead th {\n",
       "        text-align: right;\n",
       "    }\n",
       "</style>\n",
       "<table border=\"1\" class=\"dataframe\">\n",
       "  <thead>\n",
       "    <tr style=\"text-align: right;\">\n",
       "      <th></th>\n",
       "      <th>High</th>\n",
       "      <th>Low</th>\n",
       "      <th>Open</th>\n",
       "      <th>Close</th>\n",
       "      <th>Volume</th>\n",
       "      <th>Adj Close</th>\n",
       "    </tr>\n",
       "    <tr>\n",
       "      <th>Date</th>\n",
       "      <th></th>\n",
       "      <th></th>\n",
       "      <th></th>\n",
       "      <th></th>\n",
       "      <th></th>\n",
       "      <th></th>\n",
       "    </tr>\n",
       "  </thead>\n",
       "  <tbody>\n",
       "    <tr>\n",
       "      <th>1995-01-03</th>\n",
       "      <td>15.62500</td>\n",
       "      <td>15.43750</td>\n",
       "      <td>15.46875</td>\n",
       "      <td>15.59375</td>\n",
       "      <td>3318400.0</td>\n",
       "      <td>7.875521</td>\n",
       "    </tr>\n",
       "    <tr>\n",
       "      <th>1995-01-04</th>\n",
       "      <td>15.65625</td>\n",
       "      <td>15.31250</td>\n",
       "      <td>15.53125</td>\n",
       "      <td>15.46875</td>\n",
       "      <td>2218800.0</td>\n",
       "      <td>7.812392</td>\n",
       "    </tr>\n",
       "    <tr>\n",
       "      <th>1995-01-05</th>\n",
       "      <td>15.43750</td>\n",
       "      <td>15.21875</td>\n",
       "      <td>15.37500</td>\n",
       "      <td>15.25000</td>\n",
       "      <td>2319600.0</td>\n",
       "      <td>7.701912</td>\n",
       "    </tr>\n",
       "    <tr>\n",
       "      <th>1995-01-06</th>\n",
       "      <td>15.40625</td>\n",
       "      <td>15.15625</td>\n",
       "      <td>15.15625</td>\n",
       "      <td>15.28125</td>\n",
       "      <td>3438000.0</td>\n",
       "      <td>7.717696</td>\n",
       "    </tr>\n",
       "    <tr>\n",
       "      <th>1995-01-09</th>\n",
       "      <td>15.40625</td>\n",
       "      <td>15.18750</td>\n",
       "      <td>15.34375</td>\n",
       "      <td>15.21875</td>\n",
       "      <td>1795200.0</td>\n",
       "      <td>7.686131</td>\n",
       "    </tr>\n",
       "  </tbody>\n",
       "</table>\n",
       "</div>"
      ],
      "text/plain": [
       "                High       Low      Open     Close     Volume  Adj Close\n",
       "Date                                                                    \n",
       "1995-01-03  15.62500  15.43750  15.46875  15.59375  3318400.0   7.875521\n",
       "1995-01-04  15.65625  15.31250  15.53125  15.46875  2218800.0   7.812392\n",
       "1995-01-05  15.43750  15.21875  15.37500  15.25000  2319600.0   7.701912\n",
       "1995-01-06  15.40625  15.15625  15.15625  15.28125  3438000.0   7.717696\n",
       "1995-01-09  15.40625  15.18750  15.34375  15.21875  1795200.0   7.686131"
      ]
     },
     "execution_count": 8,
     "metadata": {},
     "output_type": "execute_result"
    }
   ],
   "source": [
    "#primeiros 5 dados\n",
    "PG.head()"
   ]
  },
  {
   "cell_type": "code",
   "execution_count": 9,
   "id": "bce5d777",
   "metadata": {},
   "outputs": [
    {
     "data": {
      "text/html": [
       "<div>\n",
       "<style scoped>\n",
       "    .dataframe tbody tr th:only-of-type {\n",
       "        vertical-align: middle;\n",
       "    }\n",
       "\n",
       "    .dataframe tbody tr th {\n",
       "        vertical-align: top;\n",
       "    }\n",
       "\n",
       "    .dataframe thead th {\n",
       "        text-align: right;\n",
       "    }\n",
       "</style>\n",
       "<table border=\"1\" class=\"dataframe\">\n",
       "  <thead>\n",
       "    <tr style=\"text-align: right;\">\n",
       "      <th></th>\n",
       "      <th>High</th>\n",
       "      <th>Low</th>\n",
       "      <th>Open</th>\n",
       "      <th>Close</th>\n",
       "      <th>Volume</th>\n",
       "      <th>Adj Close</th>\n",
       "    </tr>\n",
       "    <tr>\n",
       "      <th>Date</th>\n",
       "      <th></th>\n",
       "      <th></th>\n",
       "      <th></th>\n",
       "      <th></th>\n",
       "      <th></th>\n",
       "      <th></th>\n",
       "    </tr>\n",
       "  </thead>\n",
       "  <tbody>\n",
       "    <tr>\n",
       "      <th>2022-08-26</th>\n",
       "      <td>146.529999</td>\n",
       "      <td>142.020004</td>\n",
       "      <td>146.000000</td>\n",
       "      <td>142.289993</td>\n",
       "      <td>6086600.0</td>\n",
       "      <td>142.289993</td>\n",
       "    </tr>\n",
       "    <tr>\n",
       "      <th>2022-08-29</th>\n",
       "      <td>142.690002</td>\n",
       "      <td>141.020004</td>\n",
       "      <td>141.300003</td>\n",
       "      <td>141.690002</td>\n",
       "      <td>5272100.0</td>\n",
       "      <td>141.690002</td>\n",
       "    </tr>\n",
       "    <tr>\n",
       "      <th>2022-08-30</th>\n",
       "      <td>142.410004</td>\n",
       "      <td>139.910004</td>\n",
       "      <td>142.410004</td>\n",
       "      <td>140.179993</td>\n",
       "      <td>5203700.0</td>\n",
       "      <td>140.179993</td>\n",
       "    </tr>\n",
       "    <tr>\n",
       "      <th>2022-08-31</th>\n",
       "      <td>140.880005</td>\n",
       "      <td>137.860001</td>\n",
       "      <td>140.399994</td>\n",
       "      <td>137.940002</td>\n",
       "      <td>8406900.0</td>\n",
       "      <td>137.940002</td>\n",
       "    </tr>\n",
       "    <tr>\n",
       "      <th>2022-09-01</th>\n",
       "      <td>139.759995</td>\n",
       "      <td>136.759995</td>\n",
       "      <td>137.830002</td>\n",
       "      <td>139.639999</td>\n",
       "      <td>7445300.0</td>\n",
       "      <td>139.639999</td>\n",
       "    </tr>\n",
       "  </tbody>\n",
       "</table>\n",
       "</div>"
      ],
      "text/plain": [
       "                  High         Low        Open       Close     Volume  \\\n",
       "Date                                                                    \n",
       "2022-08-26  146.529999  142.020004  146.000000  142.289993  6086600.0   \n",
       "2022-08-29  142.690002  141.020004  141.300003  141.690002  5272100.0   \n",
       "2022-08-30  142.410004  139.910004  142.410004  140.179993  5203700.0   \n",
       "2022-08-31  140.880005  137.860001  140.399994  137.940002  8406900.0   \n",
       "2022-09-01  139.759995  136.759995  137.830002  139.639999  7445300.0   \n",
       "\n",
       "             Adj Close  \n",
       "Date                    \n",
       "2022-08-26  142.289993  \n",
       "2022-08-29  141.690002  \n",
       "2022-08-30  140.179993  \n",
       "2022-08-31  137.940002  \n",
       "2022-09-01  139.639999  "
      ]
     },
     "execution_count": 9,
     "metadata": {},
     "output_type": "execute_result"
    }
   ],
   "source": [
    "#ultimos 5 dados\n",
    "PG.tail()"
   ]
  },
  {
   "cell_type": "code",
   "execution_count": 10,
   "id": "cc40490d",
   "metadata": {},
   "outputs": [
    {
     "data": {
      "text/plain": [
       "Date\n",
       "1995-01-03         NaN\n",
       "1995-01-04   -0.008016\n",
       "1995-01-05   -0.014142\n",
       "1995-01-06    0.002049\n",
       "1995-01-09   -0.004090\n",
       "                ...   \n",
       "2022-08-26   -0.023404\n",
       "2022-08-29   -0.004217\n",
       "2022-08-30   -0.010657\n",
       "2022-08-31   -0.015979\n",
       "2022-09-01    0.012324\n",
       "Name: simple_return, Length: 6967, dtype: float64"
      ]
     },
     "execution_count": 10,
     "metadata": {},
     "output_type": "execute_result"
    }
   ],
   "source": [
    "#retorno simples\n",
    "PG['simple_return'] = (PG['Adj Close'] / PG['Adj Close'].shift(1)) - 1\n",
    "PG['simple_return']"
   ]
  },
  {
   "cell_type": "code",
   "execution_count": 11,
   "id": "56ceff92",
   "metadata": {},
   "outputs": [
    {
     "data": {
      "text/plain": [
       "<AxesSubplot:xlabel='Date'>"
      ]
     },
     "execution_count": 11,
     "metadata": {},
     "output_type": "execute_result"
    },
    {
     "data": {
      "image/png": "[encoded data removed]",
      "text/plain": [
       "<Figure size 576x360 with 1 Axes>"
      ]
     },
     "metadata": {
      "needs_background": "light"
     },
     "output_type": "display_data"
    }
   ],
   "source": [
    "#retorno diario\n",
    "PG['simple_return'].plot(figsize=(8,5))"
   ]
  },
  {
   "cell_type": "code",
   "execution_count": 12,
   "id": "ae95b9fd",
   "metadata": {},
   "outputs": [
    {
     "data": {
      "text/plain": [
       "0.000513240987819069"
      ]
     },
     "execution_count": 12,
     "metadata": {},
     "output_type": "execute_result"
    }
   ],
   "source": [
    "#taxa de retorno media diaria\n",
    "avg_returns_d = PG['simple_return'].mean()\n",
    "avg_returns_d"
   ]
  },
  {
   "cell_type": "code",
   "execution_count": 13,
   "id": "88bdbb6d",
   "metadata": {},
   "outputs": [
    {
     "data": {
      "text/plain": [
       "0.12831024695476725"
      ]
     },
     "execution_count": 13,
     "metadata": {},
     "output_type": "execute_result"
    }
   ],
   "source": [
    "#taxa de retorno media anual\n",
    "avg_returns_a = PG['simple_return'].mean()*250\n",
    "avg_returns_a"
   ]
  }
 ],
 "metadata": {
  "kernelspec": {
   "display_name": "Python 3 (ipykernel)",
   "language": "python",
   "name": "python3"
  },
  "language_info": {
   "codemirror_mode": {
    "name": "ipython",
    "version": 3
   },
   "file_extension": ".py",
   "mimetype": "text/x-python",
   "name": "python",
   "nbconvert_exporter": "python",
   "pygments_lexer": "ipython3",
   "version": "3.9.12"
  }
 },
 "nbformat": 4,
 "nbformat_minor": 5
}
